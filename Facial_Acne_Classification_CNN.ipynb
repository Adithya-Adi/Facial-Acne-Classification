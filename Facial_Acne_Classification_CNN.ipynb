{
 "cells": [
  {
   "cell_type": "code",
   "execution_count": 4,
   "id": "0f0c0b85-609f-460a-9b4a-e3b391d56293",
   "metadata": {},
   "outputs": [],
   "source": [
    "import pandas as pd\n",
    "import numpy as np \n",
    "import itertools\n",
    "import keras\n",
    "from sklearn import metrics\n",
    "from sklearn.metrics import confusion_matrix\n",
    "from keras.preprocessing.image import ImageDataGenerator\n",
    "from tensorflow.keras.utils import img_to_array,load_img \n",
    "from keras.models import Sequential \n",
    "from keras import optimizers\n",
    "from keras.preprocessing import image\n",
    "from keras.layers import Dropout, Flatten, Dense \n",
    "from keras import applications \n",
    "from keras.utils.np_utils import to_categorical \n",
    "import matplotlib.pyplot as plt \n",
    "import matplotlib.image as mpimg\n",
    "%matplotlib inline\n",
    "import math \n",
    "import datetime\n",
    "import time\n",
    "from sklearn import metrics\n",
    "from sklearn.metrics import accuracy_score,confusion_matrix,classification_report"
   ]
  },
  {
   "cell_type": "code",
   "execution_count": 5,
   "id": "ec67e563-8be4-4eb9-b81c-f70993b39f7d",
   "metadata": {},
   "outputs": [],
   "source": [
    "img_width, img_height = 224, 224 \n",
    " \n",
    "top_model_weights_path = 'bottleneck_fc_model.h5'\n",
    "train_data_dir = r'C:\\Users\\adith\\Documents\\Facial_Acne_Classification\\dataset\\train'\n",
    "validation_data_dir = r'C:\\Users\\adith\\Documents\\Facial_Acne_Classification\\dataset\\val'\n",
    "test_data_dir = r'C:\\Users\\adith\\Documents\\Facial_Acne_Classification\\dataset\\test'\n",
    "\n",
    "batch_size = 32 "
   ]
  },
  {
   "cell_type": "code",
   "execution_count": 6,
   "id": "5ad7ddec-5b51-47fa-a467-7e00eb69a687",
   "metadata": {},
   "outputs": [],
   "source": [
    "#Loading vgc16 model\n",
    "vgg16 = applications.VGG16(include_top=False, weights='imagenet')\n",
    "datagen = ImageDataGenerator(rescale=1. / 255) \n",
    "#needed to create the bottleneck .npy files"
   ]
  },
  {
   "cell_type": "code",
   "execution_count": 159,
   "id": "b34a82b0-a44c-4b17-a0ec-484147c36068",
   "metadata": {},
   "outputs": [
    {
     "name": "stdout",
     "output_type": "stream",
     "text": [
      "Found 344 images belonging to 4 classes.\n",
      "11/11 [==============================] - 50s 5s/step\n",
      "Time:  0:00:50.837792\n"
     ]
    }
   ],
   "source": [
    "#__this can take an hour and half to run so only run it once. \n",
    "#once the npy files have been created, no need to run again. Convert this cell to a code cell to run.__\n",
    "start = datetime.datetime.now()\n",
    " \n",
    "generator = datagen.flow_from_directory( \n",
    "    train_data_dir, \n",
    "    target_size=(img_width, img_height), \n",
    "    batch_size=batch_size, \n",
    "    class_mode=None, \n",
    "    shuffle=False) \n",
    " \n",
    "nb_train_samples = len(generator.filenames) \n",
    "num_classes = len(generator.class_indices) \n",
    " \n",
    "predict_size_train = int(math.ceil(nb_train_samples / batch_size)) \n",
    " \n",
    "bottleneck_features_train = vgg16.predict(generator, predict_size_train) \n",
    " \n",
    "np.save('bottleneck_features_train.npy', bottleneck_features_train)\n",
    "end= datetime.datetime.now()\n",
    "elapsed= end-start\n",
    "print ('Time: ', elapsed)"
   ]
  },
  {
   "cell_type": "code",
   "execution_count": 160,
   "id": "288c5d80-ff69-47a8-87ae-17fb40f235ba",
   "metadata": {},
   "outputs": [
    {
     "name": "stdout",
     "output_type": "stream",
     "text": [
      "Found 112 images belonging to 4 classes.\n",
      "4/4 [==============================] - 22s 5s/step\n",
      "Time:  0:00:22.889357\n"
     ]
    }
   ],
   "source": [
    "#__this can take an hour and half to run so only run it once. \n",
    "#once the npy files have been created, no need to run again. Convert this cell to a code cell to run.__\n",
    "start = datetime.datetime.now()\n",
    " \n",
    "generator = datagen.flow_from_directory( \n",
    "    validation_data_dir, \n",
    "    target_size=(img_width, img_height), \n",
    "    batch_size=batch_size, \n",
    "    class_mode=None, \n",
    "    shuffle=False) \n",
    " \n",
    "nb_train_samples = len(generator.filenames) \n",
    "num_classes = len(generator.class_indices) \n",
    " \n",
    "predict_size_train = int(math.ceil(nb_train_samples / batch_size)) \n",
    " \n",
    "bottleneck_features_validation = vgg16.predict(generator, predict_size_train) \n",
    " \n",
    "np.save('bottleneck_features_validation.npy', bottleneck_features_validation)\n",
    "end= datetime.datetime.now()\n",
    "elapsed= end-start\n",
    "print ('Time: ', elapsed)"
   ]
  },
  {
   "cell_type": "code",
   "execution_count": 161,
   "id": "c787e807-3d41-4f22-8466-1b7ca3a7bb6e",
   "metadata": {},
   "outputs": [
    {
     "name": "stdout",
     "output_type": "stream",
     "text": [
      "Found 120 images belonging to 4 classes.\n",
      "4/4 [==============================] - 24s 6s/step\n",
      "Time:  0:00:24.622116\n"
     ]
    }
   ],
   "source": [
    "#__this can take an hour and half to run so only run it once. \n",
    "#once the npy files have been created, no need to run again. Convert this cell to a code cell to run.__\n",
    "start = datetime.datetime.now()\n",
    " \n",
    "generator = datagen.flow_from_directory( \n",
    "    test_data_dir, \n",
    "    target_size=(img_width, img_height), \n",
    "    batch_size=batch_size, \n",
    "    class_mode=None, \n",
    "    shuffle=False) \n",
    " \n",
    "nb_train_samples = len(generator.filenames) \n",
    "num_classes = len(generator.class_indices) \n",
    " \n",
    "predict_size_train = int(math.ceil(nb_train_samples / batch_size)) \n",
    " \n",
    "bottleneck_features_validation = vgg16.predict(generator, predict_size_train) \n",
    " \n",
    "np.save('bottleneck_features_test.npy', bottleneck_features_validation)\n",
    "end= datetime.datetime.now()\n",
    "elapsed= end-start\n",
    "print ('Time: ', elapsed)"
   ]
  },
  {
   "cell_type": "code",
   "execution_count": 7,
   "id": "71fafed1-dc19-468c-a8af-cb3063da57aa",
   "metadata": {},
   "outputs": [
    {
     "name": "stdout",
     "output_type": "stream",
     "text": [
      "Found 344 images belonging to 4 classes.\n"
     ]
    }
   ],
   "source": [
    "#training data\n",
    "generator_top = datagen.flow_from_directory( \n",
    "   train_data_dir, \n",
    "   target_size=(img_width, img_height), \n",
    "   batch_size=batch_size, \n",
    "   class_mode='categorical', \n",
    "   shuffle=False) \n",
    " \n",
    "nb_train_samples = len(generator_top.filenames) \n",
    "num_classes = len(generator_top.class_indices) \n",
    " \n",
    "# load the bottleneck features saved earlier \n",
    "train_data = np.load('bottleneck_features_train.npy') \n",
    " \n",
    "# get the class labels for the training data, in the original order \n",
    "train_labels = generator_top.classes \n",
    " \n",
    "# convert the training labels to categorical vectors \n",
    "train_labels = to_categorical(train_labels, num_classes=num_classes)"
   ]
  },
  {
   "cell_type": "code",
   "execution_count": 8,
   "id": "c70f9830-86bc-4163-909c-cee84b297f07",
   "metadata": {},
   "outputs": [
    {
     "name": "stdout",
     "output_type": "stream",
     "text": [
      "Found 112 images belonging to 4 classes.\n"
     ]
    }
   ],
   "source": [
    "#validation data\n",
    "generator_top = datagen.flow_from_directory( \n",
    "   validation_data_dir, \n",
    "   target_size=(img_width, img_height), \n",
    "   batch_size=batch_size, \n",
    "   class_mode='categorical', \n",
    "   shuffle=False) \n",
    " \n",
    "nb_train_samples = len(generator_top.filenames) \n",
    "num_classes = len(generator_top.class_indices) \n",
    " \n",
    "# load the bottleneck features saved earlier \n",
    "validation_data = np.load('bottleneck_features_validation.npy') \n",
    " \n",
    "# get the class labels for the training data, in the original order \n",
    "validation_labels = generator_top.classes \n",
    " \n",
    "# convert the training labels to categorical vectors \n",
    "validation_labels = to_categorical(validation_labels, num_classes=num_classes)"
   ]
  },
  {
   "cell_type": "code",
   "execution_count": 9,
   "id": "0e6d4a37-36ad-4690-b454-eb3312954853",
   "metadata": {},
   "outputs": [
    {
     "name": "stdout",
     "output_type": "stream",
     "text": [
      "Found 120 images belonging to 4 classes.\n"
     ]
    }
   ],
   "source": [
    "#test data\n",
    "generator_top = datagen.flow_from_directory( \n",
    "   test_data_dir, \n",
    "   target_size=(img_width, img_height), \n",
    "   batch_size=batch_size, \n",
    "   class_mode='categorical', \n",
    "   shuffle=False) \n",
    " \n",
    "nb_train_samples = len(generator_top.filenames) \n",
    "num_classes = len(generator_top.class_indices) \n",
    " \n",
    "# load the bottleneck features saved earlier \n",
    "test_data = np.load('bottleneck_features_test.npy') \n",
    " \n",
    "# get the class labels for the training data, in the original order \n",
    "test_labels = generator_top.classes \n",
    " \n",
    "# convert the training labels to categorical vectors \n",
    "test_labels = to_categorical(test_labels, num_classes=num_classes)"
   ]
  },
  {
   "cell_type": "code",
   "execution_count": 165,
   "id": "9f93d0c3-042d-4255-b31c-022f8c722add",
   "metadata": {},
   "outputs": [],
   "source": [
    "#This is the best model we found. For additional models, check out I_notebook.ipynb\n",
    "start = datetime.datetime.now()\n",
    "model = Sequential() \n",
    "model.add(Flatten(input_shape=train_data.shape[1:])) \n",
    "model.add(Dense(100, activation=keras.layers.LeakyReLU(alpha=0.3))) \n",
    "model.add(Dropout(0.5)) \n",
    "model.add(Dense(50, activation=keras.layers.LeakyReLU(alpha=0.3))) \n",
    "model.add(Dropout(0.3)) \n",
    "model.add(Dense(num_classes, activation='softmax'))\n",
    "model.compile(loss='categorical_crossentropy',optimizer=optimizers.RMSprop(learning_rate=1e-4),metrics=['acc'])"
   ]
  },
  {
   "cell_type": "code",
   "execution_count": 166,
   "id": "9886f649-e87f-4216-8dd7-2da8f324f0f5",
   "metadata": {},
   "outputs": [
    {
     "name": "stdout",
     "output_type": "stream",
     "text": [
      "Epoch 1/100\n",
      "11/11 [==============================] - 4s 98ms/step - loss: 1.5674 - acc: 0.3169 - val_loss: 1.1804 - val_acc: 0.4464\n",
      "Epoch 2/100\n",
      "11/11 [==============================] - 0s 23ms/step - loss: 1.2729 - acc: 0.4157 - val_loss: 1.0693 - val_acc: 0.5179\n",
      "Epoch 3/100\n",
      "11/11 [==============================] - 0s 28ms/step - loss: 1.0469 - acc: 0.5116 - val_loss: 1.0187 - val_acc: 0.5179\n",
      "Epoch 4/100\n",
      "11/11 [==============================] - 0s 28ms/step - loss: 0.9863 - acc: 0.5640 - val_loss: 1.0316 - val_acc: 0.5446\n",
      "Epoch 5/100\n",
      "11/11 [==============================] - 0s 29ms/step - loss: 0.9551 - acc: 0.5901 - val_loss: 0.8749 - val_acc: 0.6250\n",
      "Epoch 6/100\n",
      "11/11 [==============================] - 0s 28ms/step - loss: 0.8791 - acc: 0.6105 - val_loss: 0.9087 - val_acc: 0.5446\n",
      "Epoch 7/100\n",
      "11/11 [==============================] - 0s 28ms/step - loss: 0.8714 - acc: 0.6105 - val_loss: 0.8459 - val_acc: 0.6250\n",
      "Epoch 8/100\n",
      "11/11 [==============================] - 0s 32ms/step - loss: 0.7709 - acc: 0.6744 - val_loss: 0.8164 - val_acc: 0.6607\n",
      "Epoch 9/100\n",
      "11/11 [==============================] - 0s 32ms/step - loss: 0.7785 - acc: 0.6657 - val_loss: 0.8058 - val_acc: 0.7143\n",
      "Epoch 10/100\n",
      "11/11 [==============================] - 0s 28ms/step - loss: 0.6850 - acc: 0.7384 - val_loss: 0.8545 - val_acc: 0.5625\n",
      "Epoch 11/100\n",
      "11/11 [==============================] - 0s 37ms/step - loss: 0.7188 - acc: 0.6977 - val_loss: 0.7815 - val_acc: 0.6607\n",
      "Epoch 12/100\n",
      "11/11 [==============================] - 0s 34ms/step - loss: 0.6150 - acc: 0.7791 - val_loss: 0.9074 - val_acc: 0.5804\n",
      "Epoch 13/100\n",
      "11/11 [==============================] - 0s 32ms/step - loss: 0.6088 - acc: 0.7384 - val_loss: 0.7841 - val_acc: 0.6161\n",
      "Epoch 14/100\n",
      "11/11 [==============================] - 1s 47ms/step - loss: 0.5861 - acc: 0.7965 - val_loss: 0.8942 - val_acc: 0.5893\n",
      "Epoch 15/100\n",
      "11/11 [==============================] - 0s 42ms/step - loss: 0.5571 - acc: 0.8169 - val_loss: 0.7503 - val_acc: 0.6518\n",
      "Epoch 16/100\n",
      "11/11 [==============================] - 0s 35ms/step - loss: 0.5432 - acc: 0.7994 - val_loss: 0.8650 - val_acc: 0.5982\n",
      "Epoch 17/100\n",
      "11/11 [==============================] - 0s 32ms/step - loss: 0.5160 - acc: 0.8140 - val_loss: 0.9323 - val_acc: 0.5714\n",
      "Epoch 18/100\n",
      "11/11 [==============================] - 0s 34ms/step - loss: 0.5135 - acc: 0.8052 - val_loss: 0.7771 - val_acc: 0.6250\n",
      "Epoch 19/100\n",
      "11/11 [==============================] - 0s 33ms/step - loss: 0.5147 - acc: 0.7994 - val_loss: 0.7921 - val_acc: 0.6518\n",
      "Epoch 20/100\n",
      "11/11 [==============================] - 0s 32ms/step - loss: 0.4660 - acc: 0.8140 - val_loss: 0.6993 - val_acc: 0.6429\n",
      "Epoch 21/100\n",
      "11/11 [==============================] - 0s 33ms/step - loss: 0.4147 - acc: 0.8401 - val_loss: 0.7008 - val_acc: 0.6696\n",
      "Epoch 22/100\n",
      "11/11 [==============================] - 0s 34ms/step - loss: 0.3905 - acc: 0.8576 - val_loss: 0.8016 - val_acc: 0.6161\n",
      "Epoch 23/100\n",
      "11/11 [==============================] - 0s 35ms/step - loss: 0.3832 - acc: 0.8721 - val_loss: 0.6932 - val_acc: 0.6875\n",
      "Epoch 24/100\n",
      "11/11 [==============================] - 0s 34ms/step - loss: 0.3835 - acc: 0.8663 - val_loss: 0.6585 - val_acc: 0.7143\n",
      "Epoch 25/100\n",
      "11/11 [==============================] - 0s 33ms/step - loss: 0.3932 - acc: 0.8343 - val_loss: 0.6575 - val_acc: 0.7321\n",
      "Epoch 26/100\n",
      "11/11 [==============================] - 0s 34ms/step - loss: 0.3849 - acc: 0.8808 - val_loss: 0.6982 - val_acc: 0.6875\n",
      "Epoch 27/100\n",
      "11/11 [==============================] - 0s 33ms/step - loss: 0.3405 - acc: 0.8721 - val_loss: 0.6428 - val_acc: 0.7589\n",
      "Epoch 28/100\n",
      "11/11 [==============================] - 0s 36ms/step - loss: 0.3405 - acc: 0.8721 - val_loss: 0.9249 - val_acc: 0.6518\n",
      "Epoch 29/100\n",
      "11/11 [==============================] - 0s 33ms/step - loss: 0.3105 - acc: 0.8953 - val_loss: 0.8067 - val_acc: 0.6339\n",
      "Epoch 30/100\n",
      "11/11 [==============================] - 0s 32ms/step - loss: 0.3072 - acc: 0.8953 - val_loss: 0.6519 - val_acc: 0.7232\n",
      "Epoch 31/100\n",
      "11/11 [==============================] - 0s 35ms/step - loss: 0.2880 - acc: 0.9099 - val_loss: 0.6311 - val_acc: 0.7232\n",
      "Epoch 32/100\n",
      "11/11 [==============================] - 0s 36ms/step - loss: 0.3164 - acc: 0.8924 - val_loss: 0.7209 - val_acc: 0.6964\n",
      "Epoch 33/100\n",
      "11/11 [==============================] - 0s 33ms/step - loss: 0.2769 - acc: 0.8808 - val_loss: 0.6925 - val_acc: 0.6875\n",
      "Epoch 34/100\n",
      "11/11 [==============================] - 0s 36ms/step - loss: 0.2726 - acc: 0.9099 - val_loss: 0.7405 - val_acc: 0.6786\n",
      "Epoch 35/100\n",
      "11/11 [==============================] - 0s 36ms/step - loss: 0.2503 - acc: 0.9157 - val_loss: 0.6186 - val_acc: 0.7411\n",
      "Epoch 36/100\n",
      "11/11 [==============================] - 0s 34ms/step - loss: 0.2550 - acc: 0.9041 - val_loss: 0.7427 - val_acc: 0.6786\n",
      "Epoch 37/100\n",
      "11/11 [==============================] - 0s 32ms/step - loss: 0.2214 - acc: 0.9302 - val_loss: 0.6223 - val_acc: 0.7321\n",
      "Epoch 38/100\n",
      "11/11 [==============================] - 0s 34ms/step - loss: 0.2826 - acc: 0.9012 - val_loss: 0.7638 - val_acc: 0.6696\n",
      "Epoch 39/100\n",
      "11/11 [==============================] - 0s 32ms/step - loss: 0.2309 - acc: 0.9215 - val_loss: 0.7171 - val_acc: 0.6696\n",
      "Epoch 40/100\n",
      "11/11 [==============================] - 0s 34ms/step - loss: 0.1792 - acc: 0.9477 - val_loss: 0.7286 - val_acc: 0.7054\n",
      "Epoch 41/100\n",
      "11/11 [==============================] - 0s 38ms/step - loss: 0.2187 - acc: 0.9215 - val_loss: 0.6647 - val_acc: 0.7143\n",
      "Epoch 42/100\n",
      "11/11 [==============================] - 0s 32ms/step - loss: 0.1978 - acc: 0.9535 - val_loss: 0.7369 - val_acc: 0.6875\n",
      "Epoch 43/100\n",
      "11/11 [==============================] - 0s 45ms/step - loss: 0.1869 - acc: 0.9360 - val_loss: 0.8093 - val_acc: 0.6429\n",
      "Epoch 44/100\n",
      "11/11 [==============================] - 0s 37ms/step - loss: 0.1946 - acc: 0.9215 - val_loss: 0.6866 - val_acc: 0.7143\n",
      "Epoch 45/100\n",
      "11/11 [==============================] - 0s 34ms/step - loss: 0.1508 - acc: 0.9564 - val_loss: 0.6317 - val_acc: 0.7321\n",
      "Epoch 46/100\n",
      "11/11 [==============================] - 0s 32ms/step - loss: 0.1508 - acc: 0.9535 - val_loss: 0.9500 - val_acc: 0.6607\n",
      "Epoch 47/100\n",
      "11/11 [==============================] - 0s 34ms/step - loss: 0.1729 - acc: 0.9477 - val_loss: 0.6990 - val_acc: 0.6964\n",
      "Epoch 48/100\n",
      "11/11 [==============================] - 0s 37ms/step - loss: 0.1886 - acc: 0.9448 - val_loss: 0.7097 - val_acc: 0.6875\n",
      "Epoch 49/100\n",
      "11/11 [==============================] - 0s 37ms/step - loss: 0.1569 - acc: 0.9564 - val_loss: 0.7345 - val_acc: 0.7143\n",
      "Epoch 50/100\n",
      "11/11 [==============================] - 0s 40ms/step - loss: 0.1739 - acc: 0.9390 - val_loss: 0.6589 - val_acc: 0.7232\n",
      "Epoch 51/100\n",
      "11/11 [==============================] - 0s 43ms/step - loss: 0.1651 - acc: 0.9535 - val_loss: 0.6338 - val_acc: 0.7500\n",
      "Epoch 52/100\n",
      "11/11 [==============================] - 0s 32ms/step - loss: 0.1355 - acc: 0.9651 - val_loss: 0.7292 - val_acc: 0.7054\n",
      "Epoch 53/100\n",
      "11/11 [==============================] - 1s 49ms/step - loss: 0.1453 - acc: 0.9535 - val_loss: 0.8785 - val_acc: 0.6607\n",
      "Epoch 54/100\n",
      "11/11 [==============================] - 0s 38ms/step - loss: 0.1613 - acc: 0.9477 - val_loss: 0.7290 - val_acc: 0.6964\n",
      "Epoch 55/100\n",
      "11/11 [==============================] - 0s 36ms/step - loss: 0.1155 - acc: 0.9622 - val_loss: 0.6605 - val_acc: 0.7500\n",
      "Epoch 56/100\n",
      "11/11 [==============================] - 0s 37ms/step - loss: 0.1334 - acc: 0.9622 - val_loss: 0.6817 - val_acc: 0.7143\n",
      "Epoch 57/100\n",
      "11/11 [==============================] - 0s 36ms/step - loss: 0.1346 - acc: 0.9535 - val_loss: 0.7489 - val_acc: 0.6875\n",
      "Epoch 58/100\n",
      "11/11 [==============================] - 0s 38ms/step - loss: 0.1199 - acc: 0.9680 - val_loss: 0.6869 - val_acc: 0.6875\n",
      "Epoch 59/100\n",
      "11/11 [==============================] - 0s 35ms/step - loss: 0.1082 - acc: 0.9738 - val_loss: 0.8572 - val_acc: 0.6964\n",
      "Epoch 60/100\n",
      "11/11 [==============================] - 0s 35ms/step - loss: 0.1065 - acc: 0.9767 - val_loss: 0.8034 - val_acc: 0.7143\n",
      "Epoch 61/100\n",
      "11/11 [==============================] - 0s 32ms/step - loss: 0.1203 - acc: 0.9622 - val_loss: 0.6465 - val_acc: 0.7321\n",
      "Epoch 62/100\n",
      "11/11 [==============================] - 0s 36ms/step - loss: 0.1293 - acc: 0.9622 - val_loss: 0.9359 - val_acc: 0.6964\n",
      "Epoch 63/100\n",
      "11/11 [==============================] - 0s 36ms/step - loss: 0.0961 - acc: 0.9709 - val_loss: 0.8221 - val_acc: 0.7232\n",
      "Epoch 64/100\n",
      "11/11 [==============================] - 0s 36ms/step - loss: 0.0886 - acc: 0.9738 - val_loss: 0.6836 - val_acc: 0.7500\n",
      "Epoch 65/100\n",
      "11/11 [==============================] - 0s 38ms/step - loss: 0.1086 - acc: 0.9738 - val_loss: 0.7458 - val_acc: 0.6696\n",
      "Epoch 66/100\n",
      "11/11 [==============================] - 0s 36ms/step - loss: 0.0969 - acc: 0.9767 - val_loss: 0.6781 - val_acc: 0.7143\n",
      "Epoch 67/100\n",
      "11/11 [==============================] - 0s 36ms/step - loss: 0.1091 - acc: 0.9709 - val_loss: 0.7015 - val_acc: 0.6964\n",
      "Epoch 68/100\n",
      "11/11 [==============================] - 0s 37ms/step - loss: 0.0922 - acc: 0.9826 - val_loss: 0.6979 - val_acc: 0.7411\n",
      "Epoch 69/100\n",
      "11/11 [==============================] - 0s 36ms/step - loss: 0.1027 - acc: 0.9709 - val_loss: 0.7236 - val_acc: 0.7143\n",
      "Epoch 70/100\n",
      "11/11 [==============================] - 0s 35ms/step - loss: 0.0854 - acc: 0.9855 - val_loss: 0.7149 - val_acc: 0.7143\n",
      "Epoch 71/100\n",
      "11/11 [==============================] - 0s 31ms/step - loss: 0.0601 - acc: 0.9884 - val_loss: 0.6936 - val_acc: 0.7232\n",
      "Epoch 72/100\n",
      "11/11 [==============================] - 0s 39ms/step - loss: 0.0640 - acc: 0.9826 - val_loss: 0.8986 - val_acc: 0.7054\n",
      "Epoch 73/100\n",
      "11/11 [==============================] - 0s 36ms/step - loss: 0.0760 - acc: 0.9884 - val_loss: 0.7022 - val_acc: 0.7500\n",
      "Epoch 74/100\n",
      "11/11 [==============================] - 0s 42ms/step - loss: 0.0747 - acc: 0.9767 - val_loss: 0.8531 - val_acc: 0.7143\n",
      "Epoch 75/100\n",
      "11/11 [==============================] - 0s 34ms/step - loss: 0.0541 - acc: 0.9913 - val_loss: 0.7560 - val_acc: 0.7500\n",
      "Epoch 76/100\n",
      "11/11 [==============================] - 0s 32ms/step - loss: 0.0667 - acc: 0.9797 - val_loss: 0.9757 - val_acc: 0.7143\n",
      "Epoch 77/100\n",
      "11/11 [==============================] - 0s 32ms/step - loss: 0.1052 - acc: 0.9622 - val_loss: 0.7470 - val_acc: 0.7054\n",
      "Epoch 78/100\n",
      "11/11 [==============================] - 0s 44ms/step - loss: 0.0618 - acc: 0.9884 - val_loss: 0.7723 - val_acc: 0.7232\n",
      "Epoch 79/100\n",
      "11/11 [==============================] - 0s 36ms/step - loss: 0.0521 - acc: 0.9855 - val_loss: 0.7599 - val_acc: 0.7411\n",
      "Epoch 80/100\n",
      "11/11 [==============================] - 0s 38ms/step - loss: 0.0627 - acc: 0.9855 - val_loss: 0.7858 - val_acc: 0.7232\n",
      "Epoch 81/100\n",
      "11/11 [==============================] - 0s 31ms/step - loss: 0.0501 - acc: 0.9942 - val_loss: 0.7727 - val_acc: 0.7411\n",
      "Epoch 82/100\n",
      "11/11 [==============================] - 0s 36ms/step - loss: 0.0384 - acc: 0.9942 - val_loss: 1.6037 - val_acc: 0.6250\n",
      "Epoch 83/100\n",
      "11/11 [==============================] - 0s 34ms/step - loss: 0.0813 - acc: 0.9709 - val_loss: 0.7385 - val_acc: 0.7232\n",
      "Epoch 84/100\n",
      "11/11 [==============================] - 0s 30ms/step - loss: 0.0426 - acc: 0.9942 - val_loss: 0.7473 - val_acc: 0.7321\n",
      "Epoch 85/100\n",
      "11/11 [==============================] - 0s 39ms/step - loss: 0.0652 - acc: 0.9797 - val_loss: 0.8138 - val_acc: 0.7411\n",
      "Epoch 86/100\n",
      "11/11 [==============================] - 0s 34ms/step - loss: 0.0462 - acc: 0.9913 - val_loss: 0.7480 - val_acc: 0.7411\n",
      "Epoch 87/100\n",
      "11/11 [==============================] - 0s 31ms/step - loss: 0.0575 - acc: 0.9797 - val_loss: 0.7635 - val_acc: 0.7232\n",
      "Epoch 88/100\n",
      "11/11 [==============================] - 0s 35ms/step - loss: 0.0324 - acc: 0.9913 - val_loss: 0.8368 - val_acc: 0.7321\n",
      "Epoch 89/100\n",
      "11/11 [==============================] - 0s 37ms/step - loss: 0.0517 - acc: 0.9913 - val_loss: 0.9987 - val_acc: 0.7232\n",
      "Epoch 90/100\n",
      "11/11 [==============================] - 0s 36ms/step - loss: 0.0527 - acc: 0.9942 - val_loss: 0.8362 - val_acc: 0.7321\n",
      "Epoch 91/100\n",
      "11/11 [==============================] - 0s 37ms/step - loss: 0.0540 - acc: 0.9826 - val_loss: 0.8168 - val_acc: 0.7054\n",
      "Epoch 92/100\n",
      "11/11 [==============================] - 0s 36ms/step - loss: 0.0361 - acc: 0.9942 - val_loss: 0.8835 - val_acc: 0.6964\n",
      "Epoch 93/100\n",
      "11/11 [==============================] - 0s 41ms/step - loss: 0.0615 - acc: 0.9767 - val_loss: 0.7930 - val_acc: 0.7321\n",
      "Epoch 94/100\n",
      "11/11 [==============================] - 0s 42ms/step - loss: 0.0335 - acc: 0.9942 - val_loss: 0.8877 - val_acc: 0.7054\n",
      "Epoch 95/100\n",
      "11/11 [==============================] - 0s 39ms/step - loss: 0.0481 - acc: 0.9826 - val_loss: 0.8596 - val_acc: 0.7143\n",
      "Epoch 96/100\n",
      "11/11 [==============================] - 0s 41ms/step - loss: 0.0446 - acc: 0.9826 - val_loss: 0.9263 - val_acc: 0.7143\n",
      "Epoch 97/100\n",
      "11/11 [==============================] - 0s 37ms/step - loss: 0.0421 - acc: 0.9884 - val_loss: 0.8078 - val_acc: 0.7232\n",
      "Epoch 98/100\n",
      "11/11 [==============================] - 0s 38ms/step - loss: 0.0560 - acc: 0.9826 - val_loss: 0.8557 - val_acc: 0.7143\n",
      "Epoch 99/100\n",
      "11/11 [==============================] - 0s 37ms/step - loss: 0.0394 - acc: 0.9942 - val_loss: 0.8996 - val_acc: 0.7321\n",
      "Epoch 100/100\n",
      "11/11 [==============================] - 0s 38ms/step - loss: 0.0306 - acc: 0.9942 - val_loss: 0.7970 - val_acc: 0.7500\n"
     ]
    }
   ],
   "source": [
    "# history = model.fit(np.array(train_data), np.array(train_labels), epochs=7,batch_size=batch_size, validation_data=(np.array(validation_data), np.array(validation_labels)))\n",
    "history = model.fit(train_data, train_labels, epochs=100,batch_size=batch_size, validation_data=(validation_data, validation_labels))\n",
    "model.save_weights(top_model_weights_path)"
   ]
  },
  {
   "cell_type": "code",
   "execution_count": 167,
   "id": "1fae8da4-074b-4948-909a-ea2e4e89a011",
   "metadata": {},
   "outputs": [
    {
     "name": "stdout",
     "output_type": "stream",
     "text": [
      "4/4 [==============================] - 0s 10ms/step - loss: 0.7970 - acc: 0.7500\n",
      "[INFO] accuracy: 75.00%\n",
      "[INFO] Loss: 0.7970200777053833\n",
      "Time:  0:00:43.319772\n"
     ]
    }
   ],
   "source": [
    "(eval_loss, eval_accuracy) = model.evaluate(validation_data, validation_labels, batch_size=batch_size,verbose=1)\n",
    "print(\"[INFO] accuracy: {:.2f}%\".format(eval_accuracy * 100)) \n",
    "print(\"[INFO] Loss: {}\".format(eval_loss)) \n",
    "end= datetime.datetime.now()\n",
    "elapsed= end-start \n",
    "print ('Time: ', elapsed)"
   ]
  },
  {
   "cell_type": "code",
   "execution_count": 168,
   "id": "895c4c8b-6117-47bc-b655-b4d73a2d4d82",
   "metadata": {},
   "outputs": [
    {
     "data": {
      "image/png": "[encoded data removed]",
      "text/plain": [
       "<Figure size 640x480 with 1 Axes>"
      ]
     },
     "metadata": {},
     "output_type": "display_data"
    },
    {
     "data": {
      "image/png": "[encoded data removed]",
      "text/plain": [
       "<Figure size 640x480 with 1 Axes>"
      ]
     },
     "metadata": {},
     "output_type": "display_data"
    }
   ],
   "source": [
    "#Graphing our training and validation\n",
    "acc = history.history['acc']\n",
    "val_acc = history.history['val_acc']\n",
    "loss = history.history['loss']\n",
    "val_loss = history.history['val_loss']\n",
    "epochs = range(len(acc))\n",
    "plt.plot(epochs, acc, 'r', label='Training acc')\n",
    "plt.plot(epochs, val_acc, 'b', label='Validation acc')\n",
    "plt.title('Training and validation accuracy')\n",
    "plt.ylabel('accuracy') \n",
    "plt.xlabel('epoch')\n",
    "plt.legend()\n",
    "plt.figure()\n",
    "plt.plot(epochs, loss, 'r', label='Training loss')\n",
    "plt.plot(epochs, val_loss, 'b', label='Validation loss')\n",
    "plt.title('Training and validation loss')\n",
    "plt.ylabel('loss') \n",
    "plt.xlabel('epoch')\n",
    "plt.legend()\n",
    "plt.show()"
   ]
  },
  {
   "cell_type": "code",
   "execution_count": 169,
   "id": "c75d71e6-ab87-45ad-8ad0-d8717f48572a",
   "metadata": {},
   "outputs": [
    {
     "name": "stdout",
     "output_type": "stream",
     "text": [
      "4/4 [==============================] - 0s 11ms/step - loss: 1.0038 - acc: 0.7583\n"
     ]
    },
    {
     "data": {
      "text/plain": [
       "[1.003846526145935, 0.7583333253860474]"
      ]
     },
     "execution_count": 169,
     "metadata": {},
     "output_type": "execute_result"
    }
   ],
   "source": [
    "model.evaluate(test_data,test_labels)"
   ]
  },
  {
   "cell_type": "code",
   "execution_count": 170,
   "id": "f8480311-cbf7-482e-9563-3acc0b38446b",
   "metadata": {},
   "outputs": [
    {
     "name": "stdout",
     "output_type": "stream",
     "text": [
      "4/4 [==============================] - 0s 5ms/step\n"
     ]
    },
    {
     "data": {
      "text/plain": [
       "array([[1., 0., 0., 0.],\n",
       "       [1., 0., 0., 0.],\n",
       "       [1., 0., 0., 0.],\n",
       "       [1., 0., 0., 0.],\n",
       "       [1., 0., 0., 0.],\n",
       "       [1., 0., 0., 0.],\n",
       "       [1., 0., 0., 0.],\n",
       "       [1., 0., 0., 0.],\n",
       "       [1., 0., 0., 0.],\n",
       "       [1., 0., 0., 0.],\n",
       "       [1., 0., 0., 0.],\n",
       "       [1., 0., 0., 0.],\n",
       "       [1., 0., 0., 0.],\n",
       "       [1., 0., 0., 0.],\n",
       "       [1., 0., 0., 0.],\n",
       "       [1., 0., 0., 0.],\n",
       "       [1., 0., 0., 0.],\n",
       "       [1., 0., 0., 0.],\n",
       "       [1., 0., 0., 0.],\n",
       "       [1., 0., 0., 0.],\n",
       "       [1., 0., 0., 0.],\n",
       "       [1., 0., 0., 0.],\n",
       "       [1., 0., 0., 0.],\n",
       "       [1., 0., 0., 0.],\n",
       "       [1., 0., 0., 0.],\n",
       "       [1., 0., 0., 0.],\n",
       "       [1., 0., 0., 0.],\n",
       "       [1., 0., 0., 0.],\n",
       "       [1., 0., 0., 0.],\n",
       "       [1., 0., 0., 0.],\n",
       "       [0., 1., 0., 0.],\n",
       "       [0., 1., 0., 0.],\n",
       "       [0., 1., 0., 0.],\n",
       "       [0., 1., 0., 0.],\n",
       "       [0., 1., 0., 0.],\n",
       "       [0., 1., 0., 0.],\n",
       "       [0., 1., 0., 0.],\n",
       "       [0., 1., 0., 0.],\n",
       "       [0., 1., 0., 0.],\n",
       "       [0., 1., 0., 0.],\n",
       "       [0., 1., 0., 0.],\n",
       "       [0., 1., 0., 0.],\n",
       "       [0., 1., 0., 0.],\n",
       "       [0., 1., 0., 0.],\n",
       "       [0., 1., 0., 0.],\n",
       "       [0., 1., 0., 0.],\n",
       "       [0., 1., 0., 0.],\n",
       "       [0., 1., 0., 0.],\n",
       "       [0., 1., 0., 0.],\n",
       "       [0., 1., 0., 0.],\n",
       "       [0., 1., 0., 0.],\n",
       "       [0., 1., 0., 0.],\n",
       "       [0., 1., 0., 0.],\n",
       "       [0., 1., 0., 0.],\n",
       "       [0., 1., 0., 0.],\n",
       "       [0., 1., 0., 0.],\n",
       "       [0., 1., 0., 0.],\n",
       "       [0., 1., 0., 0.],\n",
       "       [0., 1., 0., 0.],\n",
       "       [0., 1., 0., 0.],\n",
       "       [0., 0., 1., 0.],\n",
       "       [0., 0., 1., 0.],\n",
       "       [0., 0., 1., 0.],\n",
       "       [0., 0., 1., 0.],\n",
       "       [0., 0., 1., 0.],\n",
       "       [0., 0., 1., 0.],\n",
       "       [0., 0., 1., 0.],\n",
       "       [0., 0., 1., 0.],\n",
       "       [0., 0., 1., 0.],\n",
       "       [0., 0., 1., 0.],\n",
       "       [0., 0., 1., 0.],\n",
       "       [0., 0., 1., 0.],\n",
       "       [0., 0., 1., 0.],\n",
       "       [0., 0., 1., 0.],\n",
       "       [0., 0., 1., 0.],\n",
       "       [0., 0., 1., 0.],\n",
       "       [0., 0., 1., 0.],\n",
       "       [0., 0., 1., 0.],\n",
       "       [0., 0., 1., 0.],\n",
       "       [0., 0., 1., 0.],\n",
       "       [0., 0., 1., 0.],\n",
       "       [0., 0., 1., 0.],\n",
       "       [0., 0., 1., 0.],\n",
       "       [0., 0., 1., 0.],\n",
       "       [0., 0., 1., 0.],\n",
       "       [0., 0., 1., 0.],\n",
       "       [0., 0., 1., 0.],\n",
       "       [0., 0., 1., 0.],\n",
       "       [0., 0., 1., 0.],\n",
       "       [0., 0., 1., 0.],\n",
       "       [0., 0., 0., 1.],\n",
       "       [0., 0., 0., 1.],\n",
       "       [0., 0., 0., 1.],\n",
       "       [0., 0., 0., 1.],\n",
       "       [0., 0., 0., 1.],\n",
       "       [0., 0., 0., 1.],\n",
       "       [0., 0., 0., 1.],\n",
       "       [0., 0., 0., 1.],\n",
       "       [0., 0., 0., 1.],\n",
       "       [0., 0., 0., 1.],\n",
       "       [0., 0., 0., 1.],\n",
       "       [0., 0., 0., 1.],\n",
       "       [0., 0., 0., 1.],\n",
       "       [0., 0., 0., 1.],\n",
       "       [0., 0., 0., 1.],\n",
       "       [0., 0., 0., 1.],\n",
       "       [0., 0., 0., 1.],\n",
       "       [0., 0., 0., 1.],\n",
       "       [0., 0., 0., 1.],\n",
       "       [0., 0., 0., 1.],\n",
       "       [0., 0., 0., 1.],\n",
       "       [0., 0., 0., 1.],\n",
       "       [0., 0., 0., 1.],\n",
       "       [0., 0., 0., 1.],\n",
       "       [0., 0., 0., 1.],\n",
       "       [0., 0., 0., 1.],\n",
       "       [0., 0., 0., 1.],\n",
       "       [0., 0., 0., 1.],\n",
       "       [0., 0., 0., 1.],\n",
       "       [0., 0., 0., 1.]], dtype=float32)"
      ]
     },
     "execution_count": 170,
     "metadata": {},
     "output_type": "execute_result"
    }
   ],
   "source": [
    "preds= np.round(model.predict(test_data), 0)\n",
    "test_labels"
   ]
  },
  {
   "cell_type": "code",
   "execution_count": 171,
   "id": "8ae1a8e7-6b84-498c-bd3b-f9f3d9691423",
   "metadata": {},
   "outputs": [
    {
     "name": "stdout",
     "output_type": "stream",
     "text": [
      "              precision    recall  f1-score   support\n",
      "\n",
      "      stage1       0.66      0.77      0.71        30\n",
      "      stage2       0.71      0.40      0.51        30\n",
      "      stage3       0.75      0.90      0.82        30\n",
      "      stage4       0.90      0.93      0.92        30\n",
      "\n",
      "   micro avg       0.76      0.75      0.75       120\n",
      "   macro avg       0.75      0.75      0.74       120\n",
      "weighted avg       0.75      0.75      0.74       120\n",
      " samples avg       0.75      0.75      0.75       120\n",
      "\n"
     ]
    },
    {
     "name": "stderr",
     "output_type": "stream",
     "text": [
      "C:\\Users\\adith\\anaconda3\\envs\\aiml\\lib\\site-packages\\sklearn\\metrics\\_classification.py:1344: UndefinedMetricWarning: Precision and F-score are ill-defined and being set to 0.0 in samples with no predicted labels. Use `zero_division` parameter to control this behavior.\n",
      "  _warn_prf(average, modifier, msg_start, len(result))\n"
     ]
    }
   ],
   "source": [
    "labels = ['stage1','stage2','stage3','stage4']\n",
    "classification_matrics=metrics.classification_report(test_labels,preds,target_names=labels)\n",
    "print(classification_matrics)"
   ]
  },
  {
   "cell_type": "code",
   "execution_count": 172,
   "id": "8b5ab364-2c62-4b04-b505-41ef32d81df9",
   "metadata": {},
   "outputs": [
    {
     "name": "stdout",
     "output_type": "stream",
     "text": [
      "Accuracy: 0.75\n"
     ]
    }
   ],
   "source": [
    "print(\"Accuracy:\",accuracy_score(preds,test_labels))"
   ]
  },
  {
   "cell_type": "code",
   "execution_count": 173,
   "id": "cb4da21b-8c18-4b14-8b57-efd9b28e2fc8",
   "metadata": {},
   "outputs": [
    {
     "data": {
      "image/png": "[encoded data removed]",
      "text/plain": [
       "<Figure size 640x480 with 2 Axes>"
      ]
     },
     "metadata": {},
     "output_type": "display_data"
    }
   ],
   "source": [
    "# test_data_classes=list(pd.DataFrame(test_labels).idxmax(axis=1))\n",
    "from sklearn.metrics import classification_report, confusion_matrix,ConfusionMatrixDisplay\n",
    "categorical_test_labels = pd.DataFrame(test_labels).idxmax(axis=1)\n",
    "categorical_preds = pd.DataFrame(preds).idxmax(axis=1)\n",
    "cm = confusion_matrix(categorical_test_labels.to_numpy(), categorical_preds.to_numpy())\n",
    "\n",
    "disp = ConfusionMatrixDisplay(confusion_matrix=cm, display_labels=labels)\n",
    "\n",
    "disp.plot(cmap=plt.cm.Blues)\n",
    "plt.show()"
   ]
  },
  {
   "cell_type": "code",
   "execution_count": null,
   "id": "f0cfd431-00d8-4cf8-a5d0-f70f22a2efbc",
   "metadata": {},
   "outputs": [],
   "source": []
  }
 ],
 "metadata": {
  "kernelspec": {
   "display_name": "Python 3 (ipykernel)",
   "language": "python",
   "name": "python3"
  },
  "language_info": {
   "codemirror_mode": {
    "name": "ipython",
    "version": 3
   },
   "file_extension": ".py",
   "mimetype": "text/x-python",
   "name": "python",
   "nbconvert_exporter": "python",
   "pygments_lexer": "ipython3",
   "version": "3.9.16"
  }
 },
 "nbformat": 4,
 "nbformat_minor": 5
}
