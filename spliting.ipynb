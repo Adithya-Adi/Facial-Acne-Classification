{
 "cells": [
  {
   "cell_type": "code",
   "execution_count": 6,
   "id": "064c9c91-ce4f-4c4f-9ce2-ef41ef6c2d07",
   "metadata": {},
   "outputs": [
    {
     "name": "stderr",
     "output_type": "stream",
     "text": [
      "Copying files: 576 files [00:04, 129.79 files/s]\n"
     ]
    }
   ],
   "source": [
    "import splitfolders as split_folders # or import splitfolders\n",
    "input_folder = r\"C:\\Users\\adith\\Documents\\Facial_Acne_Classification\\data\"\n",
    "output = r\"C:\\Users\\adith\\Documents\\Facial_Acne_Classification\\dataset\"\n",
    "#where you want the split datasets saved. one will be created if it does not exist or none is set\n",
    "\n",
    "split_folders.ratio(input_folder, output=output, seed=42, ratio=(.6, .2, .2)) \n",
    "# ratio of split are in order of train/val/test. You can change to whatever you want. For train/val sets only, you could do .75, .25 for example."
   ]
  },
  {
   "cell_type": "code",
   "execution_count": null,
   "id": "4af164f9-0a60-402b-9b7e-e901ac9b1b71",
   "metadata": {},
   "outputs": [],
   "source": []
  }
 ],
 "metadata": {
  "kernelspec": {
   "display_name": "Python 3 (ipykernel)",
   "language": "python",
   "name": "python3"
  },
  "language_info": {
   "codemirror_mode": {
    "name": "ipython",
    "version": 3
   },
   "file_extension": ".py",
   "mimetype": "text/x-python",
   "name": "python",
   "nbconvert_exporter": "python",
   "pygments_lexer": "ipython3",
   "version": "3.9.16"
  }
 },
 "nbformat": 4,
 "nbformat_minor": 5
}
