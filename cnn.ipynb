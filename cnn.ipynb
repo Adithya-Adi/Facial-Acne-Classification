{
 "cells": [
  {
   "cell_type": "code",
   "execution_count": 1,
   "id": "5421319a-11e3-4c86-b065-2088f31e4f53",
   "metadata": {},
   "outputs": [],
   "source": [
    "import pandas as pd\n",
    "import numpy as np \n",
    "import itertools\n",
    "import keras\n",
    "from sklearn import metrics\n",
    "from sklearn.metrics import confusion_matrix\n",
    "from keras.preprocessing.image import ImageDataGenerator\n",
    "from tensorflow.keras.utils import img_to_array,load_img \n",
    "from keras.models import Sequential \n",
    "from keras import optimizers\n",
    "from keras.preprocessing import image\n",
    "from keras.layers import Dropout, Flatten, Dense \n",
    "from keras import applications \n",
    "from keras.utils.np_utils import to_categorical \n",
    "import matplotlib.pyplot as plt \n",
    "import matplotlib.image as mpimg\n",
    "%matplotlib inline\n",
    "import math \n",
    "import datetime\n",
    "import time\n",
    "from sklearn import metrics\n",
    "from sklearn.metrics import accuracy_score,confusion_matrix,classification_report"
   ]
  },
  {
   "cell_type": "code",
   "execution_count": 2,
   "id": "4dc3e08b-1288-41db-abf8-251309a6b563",
   "metadata": {},
   "outputs": [],
   "source": [
    "img_width, img_height = 224, 224 \n",
    " \n",
    "top_model_weights_path = 'bottleneck_fc_model.h5'\n",
    "train_data_dir = r'C:\\Users\\adith\\Documents\\Facial_Acne_Classification\\dataset\\train'\n",
    "validation_data_dir = r'C:\\Users\\adith\\Documents\\Facial_Acne_Classification\\dataset\\val'\n",
    "test_data_dir = r'C:\\Users\\adith\\Documents\\Facial_Acne_Classification\\dataset\\test'\n",
    "\n",
    "batch_size = 32 "
   ]
  },
  {
   "cell_type": "code",
   "execution_count": 3,
   "id": "ef2857f3-ff29-44a5-9806-81384d556582",
   "metadata": {},
   "outputs": [],
   "source": [
    "#Loading vgc16 model\n",
    "vgg16 = applications.VGG16(include_top=False, weights='imagenet')\n",
    "datagen = ImageDataGenerator(rescale=1. / 255) \n",
    "#needed to create the bottleneck .npy files"
   ]
  },
  {
   "cell_type": "code",
   "execution_count": 4,
   "id": "84398c8a-683f-4385-b04a-c12a244604f7",
   "metadata": {},
   "outputs": [
    {
     "name": "stdout",
     "output_type": "stream",
     "text": [
      "Found 341 images belonging to 4 classes.\n",
      "11/11 [==============================] - 84s 8s/step\n",
      "Time:  0:01:24.426536\n"
     ]
    }
   ],
   "source": [
    "#__this can take an hour and half to run so only run it once. \n",
    "#once the npy files have been created, no need to run again. Convert this cell to a code cell to run.__\n",
    "start = datetime.datetime.now()\n",
    " \n",
    "generator = datagen.flow_from_directory( \n",
    "    train_data_dir, \n",
    "    target_size=(img_width, img_height), \n",
    "    batch_size=batch_size, \n",
    "    class_mode=None, \n",
    "    shuffle=False) \n",
    " \n",
    "nb_train_samples = len(generator.filenames) \n",
    "num_classes = len(generator.class_indices) \n",
    " \n",
    "predict_size_train = int(math.ceil(nb_train_samples / batch_size)) \n",
    " \n",
    "bottleneck_features_train = vgg16.predict(generator, predict_size_train) \n",
    " \n",
    "np.save('bottleneck_features_train.npy', bottleneck_features_train)\n",
    "end= datetime.datetime.now()\n",
    "elapsed= end-start\n",
    "print ('Time: ', elapsed)"
   ]
  },
  {
   "cell_type": "code",
   "execution_count": 5,
   "id": "4444acc8-5329-4c55-ab1e-376e6a59a870",
   "metadata": {},
   "outputs": [
    {
     "name": "stdout",
     "output_type": "stream",
     "text": [
      "Found 112 images belonging to 4 classes.\n",
      "4/4 [==============================] - 28s 7s/step\n",
      "Time:  0:00:27.778798\n"
     ]
    }
   ],
   "source": [
    "#__this can take an hour and half to run so only run it once. \n",
    "#once the npy files have been created, no need to run again. Convert this cell to a code cell to run.__\n",
    "start = datetime.datetime.now()\n",
    " \n",
    "generator = datagen.flow_from_directory( \n",
    "    validation_data_dir, \n",
    "    target_size=(img_width, img_height), \n",
    "    batch_size=batch_size, \n",
    "    class_mode=None, \n",
    "    shuffle=False) \n",
    " \n",
    "nb_train_samples = len(generator.filenames) \n",
    "num_classes = len(generator.class_indices) \n",
    " \n",
    "predict_size_train = int(math.ceil(nb_train_samples / batch_size)) \n",
    " \n",
    "bottleneck_features_validation = vgg16.predict(generator, predict_size_train) \n",
    " \n",
    "np.save('bottleneck_features_validation.npy', bottleneck_features_validation)\n",
    "end= datetime.datetime.now()\n",
    "elapsed= end-start\n",
    "print ('Time: ', elapsed)"
   ]
  },
  {
   "cell_type": "code",
   "execution_count": 6,
   "id": "85608fb0-68c7-440a-bcd8-f0dd3aabda5e",
   "metadata": {},
   "outputs": [
    {
     "name": "stdout",
     "output_type": "stream",
     "text": [
      "Found 120 images belonging to 4 classes.\n",
      "4/4 [==============================] - 29s 7s/step\n",
      "Time:  0:00:29.665093\n"
     ]
    }
   ],
   "source": [
    "#__this can take an hour and half to run so only run it once. \n",
    "#once the npy files have been created, no need to run again. Convert this cell to a code cell to run.__\n",
    "start = datetime.datetime.now()\n",
    " \n",
    "generator = datagen.flow_from_directory( \n",
    "    test_data_dir, \n",
    "    target_size=(img_width, img_height), \n",
    "    batch_size=batch_size, \n",
    "    class_mode=None, \n",
    "    shuffle=False) \n",
    " \n",
    "nb_train_samples = len(generator.filenames) \n",
    "num_classes = len(generator.class_indices) \n",
    " \n",
    "predict_size_train = int(math.ceil(nb_train_samples / batch_size)) \n",
    " \n",
    "bottleneck_features_validation = vgg16.predict(generator, predict_size_train) \n",
    " \n",
    "np.save('bottleneck_features_test.npy', bottleneck_features_validation)\n",
    "end= datetime.datetime.now()\n",
    "elapsed= end-start\n",
    "print ('Time: ', elapsed)"
   ]
  },
  {
   "cell_type": "code",
   "execution_count": 7,
   "id": "df6b2d79-910d-4e60-898c-240e4ac12d12",
   "metadata": {},
   "outputs": [
    {
     "name": "stdout",
     "output_type": "stream",
     "text": [
      "Found 341 images belonging to 4 classes.\n"
     ]
    }
   ],
   "source": [
    "#training data\n",
    "generator_top = datagen.flow_from_directory( \n",
    "   train_data_dir, \n",
    "   target_size=(img_width, img_height), \n",
    "   batch_size=batch_size, \n",
    "   class_mode='categorical', \n",
    "   shuffle=False) \n",
    " \n",
    "nb_train_samples = len(generator_top.filenames) \n",
    "num_classes = len(generator_top.class_indices) \n",
    " \n",
    "# load the bottleneck features saved earlier \n",
    "train_data = np.load('bottleneck_features_train.npy') \n",
    " \n",
    "# get the class labels for the training data, in the original order \n",
    "train_labels = generator_top.classes \n",
    " \n",
    "# convert the training labels to categorical vectors \n",
    "train_labels = to_categorical(train_labels, num_classes=num_classes)"
   ]
  },
  {
   "cell_type": "code",
   "execution_count": 8,
   "id": "cff49f0b-6adc-4f11-a83f-d91b59b3b62f",
   "metadata": {},
   "outputs": [
    {
     "name": "stdout",
     "output_type": "stream",
     "text": [
      "Found 112 images belonging to 4 classes.\n"
     ]
    }
   ],
   "source": [
    "#validation data\n",
    "generator_top = datagen.flow_from_directory( \n",
    "   validation_data_dir, \n",
    "   target_size=(img_width, img_height), \n",
    "   batch_size=batch_size, \n",
    "   class_mode='categorical', \n",
    "   shuffle=False) \n",
    " \n",
    "nb_train_samples = len(generator_top.filenames) \n",
    "num_classes = len(generator_top.class_indices) \n",
    " \n",
    "# load the bottleneck features saved earlier \n",
    "validation_data = np.load('bottleneck_features_validation.npy') \n",
    " \n",
    "# get the class labels for the training data, in the original order \n",
    "validation_labels = generator_top.classes \n",
    " \n",
    "# convert the training labels to categorical vectors \n",
    "validation_labels = to_categorical(validation_labels, num_classes=num_classes)"
   ]
  },
  {
   "cell_type": "code",
   "execution_count": 9,
   "id": "3c574c43-1d2b-49c4-94f3-66771bccfc02",
   "metadata": {},
   "outputs": [
    {
     "name": "stdout",
     "output_type": "stream",
     "text": [
      "Found 120 images belonging to 4 classes.\n"
     ]
    }
   ],
   "source": [
    "#test data\n",
    "generator_top = datagen.flow_from_directory( \n",
    "   test_data_dir, \n",
    "   target_size=(img_width, img_height), \n",
    "   batch_size=batch_size, \n",
    "   class_mode='categorical', \n",
    "   shuffle=False) \n",
    " \n",
    "nb_train_samples = len(generator_top.filenames) \n",
    "num_classes = len(generator_top.class_indices) \n",
    " \n",
    "# load the bottleneck features saved earlier \n",
    "test_data = np.load('bottleneck_features_test.npy') \n",
    " \n",
    "# get the class labels for the training data, in the original order \n",
    "test_labels = generator_top.classes \n",
    " \n",
    "# convert the training labels to categorical vectors \n",
    "test_labels = to_categorical(test_labels, num_classes=num_classes)"
   ]
  },
  {
   "cell_type": "code",
   "execution_count": 10,
   "id": "7909b64b-6046-431c-b28d-c1d6b5eb40ea",
   "metadata": {},
   "outputs": [],
   "source": [
    "start = datetime.datetime.now()\n",
    "model = Sequential() \n",
    "model.add(Flatten(input_shape=train_data.shape[1:])) \n",
    "model.add(Dense(100, activation=keras.layers.LeakyReLU(alpha=0.3))) \n",
    "model.add(Dropout(0.5)) \n",
    "model.add(Dense(50, activation=keras.layers.LeakyReLU(alpha=0.3))) \n",
    "model.add(Dropout(0.3)) \n",
    "model.add(Dense(num_classes, activation='softmax'))\n",
    "model.compile(loss='categorical_crossentropy',optimizer=optimizers.RMSprop(learning_rate=1e-4),metrics=['acc'])"
   ]
  },
  {
   "cell_type": "code",
   "execution_count": 11,
   "id": "5bd7de9b-4276-4552-a020-72920c6d8566",
   "metadata": {},
   "outputs": [
    {
     "name": "stdout",
     "output_type": "stream",
     "text": [
      "Epoch 1/100\n",
      "11/11 [==============================] - 3s 125ms/step - loss: 1.4599 - acc: 0.2962 - val_loss: 1.2523 - val_acc: 0.2589\n",
      "Epoch 2/100\n",
      "11/11 [==============================] - 0s 32ms/step - loss: 1.1798 - acc: 0.4604 - val_loss: 1.0763 - val_acc: 0.4911\n",
      "Epoch 3/100\n",
      "11/11 [==============================] - 0s 32ms/step - loss: 1.1182 - acc: 0.4809 - val_loss: 0.9833 - val_acc: 0.6071\n",
      "Epoch 4/100\n",
      "11/11 [==============================] - 0s 33ms/step - loss: 0.9742 - acc: 0.5630 - val_loss: 1.0679 - val_acc: 0.5179\n",
      "Epoch 5/100\n",
      "11/11 [==============================] - 0s 31ms/step - loss: 0.9066 - acc: 0.6188 - val_loss: 0.9386 - val_acc: 0.6071\n",
      "Epoch 6/100\n",
      "11/11 [==============================] - 0s 32ms/step - loss: 0.8501 - acc: 0.6540 - val_loss: 0.9259 - val_acc: 0.5893\n",
      "Epoch 7/100\n",
      "11/11 [==============================] - 0s 32ms/step - loss: 0.8346 - acc: 0.6481 - val_loss: 0.8058 - val_acc: 0.6607\n",
      "Epoch 8/100\n",
      "11/11 [==============================] - 0s 33ms/step - loss: 0.7345 - acc: 0.7038 - val_loss: 0.7968 - val_acc: 0.6786\n",
      "Epoch 9/100\n",
      "11/11 [==============================] - 0s 33ms/step - loss: 0.7050 - acc: 0.7067 - val_loss: 0.7801 - val_acc: 0.6518\n",
      "Epoch 10/100\n",
      "11/11 [==============================] - 0s 32ms/step - loss: 0.6518 - acc: 0.7625 - val_loss: 0.8047 - val_acc: 0.6161\n",
      "Epoch 11/100\n",
      "11/11 [==============================] - 0s 32ms/step - loss: 0.6410 - acc: 0.7302 - val_loss: 0.7558 - val_acc: 0.6250\n",
      "Epoch 12/100\n",
      "11/11 [==============================] - 0s 31ms/step - loss: 0.5720 - acc: 0.7654 - val_loss: 0.7559 - val_acc: 0.6607\n",
      "Epoch 13/100\n",
      "11/11 [==============================] - 0s 33ms/step - loss: 0.5886 - acc: 0.7742 - val_loss: 0.6924 - val_acc: 0.7232\n",
      "Epoch 14/100\n",
      "11/11 [==============================] - 0s 37ms/step - loss: 0.5238 - acc: 0.7918 - val_loss: 0.8486 - val_acc: 0.5714\n",
      "Epoch 15/100\n",
      "11/11 [==============================] - 0s 33ms/step - loss: 0.5367 - acc: 0.7918 - val_loss: 0.7618 - val_acc: 0.6607\n",
      "Epoch 16/100\n",
      "11/11 [==============================] - 0s 31ms/step - loss: 0.5151 - acc: 0.7977 - val_loss: 0.9270 - val_acc: 0.6071\n",
      "Epoch 17/100\n",
      "11/11 [==============================] - 0s 33ms/step - loss: 0.4635 - acc: 0.8416 - val_loss: 0.7054 - val_acc: 0.6339\n",
      "Epoch 18/100\n",
      "11/11 [==============================] - 0s 31ms/step - loss: 0.4470 - acc: 0.8504 - val_loss: 0.6485 - val_acc: 0.7054\n",
      "Epoch 19/100\n",
      "11/11 [==============================] - 0s 33ms/step - loss: 0.3825 - acc: 0.8622 - val_loss: 0.7680 - val_acc: 0.6696\n",
      "Epoch 20/100\n",
      "11/11 [==============================] - 0s 33ms/step - loss: 0.4281 - acc: 0.8416 - val_loss: 0.6239 - val_acc: 0.7054\n",
      "Epoch 21/100\n",
      "11/11 [==============================] - 0s 31ms/step - loss: 0.3984 - acc: 0.8563 - val_loss: 0.8471 - val_acc: 0.6518\n",
      "Epoch 22/100\n",
      "11/11 [==============================] - 0s 31ms/step - loss: 0.3804 - acc: 0.8563 - val_loss: 0.6513 - val_acc: 0.7143\n",
      "Epoch 23/100\n",
      "11/11 [==============================] - 0s 31ms/step - loss: 0.3566 - acc: 0.9003 - val_loss: 0.6607 - val_acc: 0.7054\n",
      "Epoch 24/100\n",
      "11/11 [==============================] - 0s 34ms/step - loss: 0.3347 - acc: 0.8886 - val_loss: 0.7062 - val_acc: 0.6786\n",
      "Epoch 25/100\n",
      "11/11 [==============================] - 0s 34ms/step - loss: 0.3451 - acc: 0.8886 - val_loss: 0.6104 - val_acc: 0.7232\n",
      "Epoch 26/100\n",
      "11/11 [==============================] - 0s 33ms/step - loss: 0.3055 - acc: 0.8886 - val_loss: 0.6361 - val_acc: 0.7143\n",
      "Epoch 27/100\n",
      "11/11 [==============================] - 0s 35ms/step - loss: 0.2976 - acc: 0.9091 - val_loss: 0.7469 - val_acc: 0.6875\n",
      "Epoch 28/100\n",
      "11/11 [==============================] - 0s 33ms/step - loss: 0.3160 - acc: 0.9091 - val_loss: 0.6535 - val_acc: 0.7232\n",
      "Epoch 29/100\n",
      "11/11 [==============================] - 0s 33ms/step - loss: 0.2839 - acc: 0.8915 - val_loss: 0.5964 - val_acc: 0.7589\n",
      "Epoch 30/100\n",
      "11/11 [==============================] - 0s 33ms/step - loss: 0.2750 - acc: 0.8944 - val_loss: 0.5945 - val_acc: 0.7321\n",
      "Epoch 31/100\n",
      "11/11 [==============================] - 0s 33ms/step - loss: 0.2762 - acc: 0.8886 - val_loss: 0.6146 - val_acc: 0.7054\n",
      "Epoch 32/100\n",
      "11/11 [==============================] - 0s 32ms/step - loss: 0.2668 - acc: 0.9120 - val_loss: 0.6902 - val_acc: 0.7054\n",
      "Epoch 33/100\n",
      "11/11 [==============================] - 0s 32ms/step - loss: 0.2444 - acc: 0.9326 - val_loss: 0.7084 - val_acc: 0.6964\n",
      "Epoch 34/100\n",
      "11/11 [==============================] - 0s 33ms/step - loss: 0.2274 - acc: 0.9413 - val_loss: 0.5978 - val_acc: 0.7500\n",
      "Epoch 35/100\n",
      "11/11 [==============================] - 0s 33ms/step - loss: 0.2447 - acc: 0.9179 - val_loss: 0.6857 - val_acc: 0.7232\n",
      "Epoch 36/100\n",
      "11/11 [==============================] - 0s 34ms/step - loss: 0.2329 - acc: 0.9150 - val_loss: 0.6642 - val_acc: 0.7232\n",
      "Epoch 37/100\n",
      "11/11 [==============================] - 0s 33ms/step - loss: 0.2162 - acc: 0.9326 - val_loss: 0.5834 - val_acc: 0.7679\n",
      "Epoch 38/100\n",
      "11/11 [==============================] - 0s 33ms/step - loss: 0.1644 - acc: 0.9648 - val_loss: 0.6303 - val_acc: 0.7411\n",
      "Epoch 39/100\n",
      "11/11 [==============================] - 0s 32ms/step - loss: 0.2323 - acc: 0.9208 - val_loss: 0.6961 - val_acc: 0.7411\n",
      "Epoch 40/100\n",
      "11/11 [==============================] - 0s 32ms/step - loss: 0.1716 - acc: 0.9589 - val_loss: 0.5869 - val_acc: 0.7143\n",
      "Epoch 41/100\n",
      "11/11 [==============================] - 0s 34ms/step - loss: 0.1683 - acc: 0.9413 - val_loss: 0.6074 - val_acc: 0.7500\n",
      "Epoch 42/100\n",
      "11/11 [==============================] - 0s 34ms/step - loss: 0.1566 - acc: 0.9648 - val_loss: 0.6522 - val_acc: 0.7500\n",
      "Epoch 43/100\n",
      "11/11 [==============================] - 0s 33ms/step - loss: 0.1545 - acc: 0.9589 - val_loss: 0.6237 - val_acc: 0.7500\n",
      "Epoch 44/100\n",
      "11/11 [==============================] - 0s 32ms/step - loss: 0.1488 - acc: 0.9560 - val_loss: 0.5910 - val_acc: 0.7411\n",
      "Epoch 45/100\n",
      "11/11 [==============================] - 0s 31ms/step - loss: 0.1537 - acc: 0.9619 - val_loss: 0.7141 - val_acc: 0.7054\n",
      "Epoch 46/100\n",
      "11/11 [==============================] - 0s 32ms/step - loss: 0.1748 - acc: 0.9443 - val_loss: 0.7715 - val_acc: 0.7143\n",
      "Epoch 47/100\n",
      "11/11 [==============================] - 0s 36ms/step - loss: 0.1302 - acc: 0.9560 - val_loss: 0.6173 - val_acc: 0.7054\n",
      "Epoch 48/100\n",
      "11/11 [==============================] - 0s 30ms/step - loss: 0.1556 - acc: 0.9501 - val_loss: 0.6927 - val_acc: 0.6875\n",
      "Epoch 49/100\n",
      "11/11 [==============================] - 0s 32ms/step - loss: 0.1382 - acc: 0.9677 - val_loss: 0.6181 - val_acc: 0.7411\n",
      "Epoch 50/100\n",
      "11/11 [==============================] - 0s 31ms/step - loss: 0.1321 - acc: 0.9677 - val_loss: 0.8511 - val_acc: 0.6339\n",
      "Epoch 51/100\n",
      "11/11 [==============================] - 0s 32ms/step - loss: 0.1044 - acc: 0.9765 - val_loss: 0.6673 - val_acc: 0.7411\n",
      "Epoch 52/100\n",
      "11/11 [==============================] - 0s 31ms/step - loss: 0.1222 - acc: 0.9589 - val_loss: 0.6433 - val_acc: 0.7232\n",
      "Epoch 53/100\n",
      "11/11 [==============================] - 0s 34ms/step - loss: 0.0873 - acc: 0.9765 - val_loss: 0.6641 - val_acc: 0.7232\n",
      "Epoch 54/100\n",
      "11/11 [==============================] - 0s 32ms/step - loss: 0.1192 - acc: 0.9677 - val_loss: 0.6246 - val_acc: 0.7411\n",
      "Epoch 55/100\n",
      "11/11 [==============================] - 0s 32ms/step - loss: 0.0741 - acc: 0.9883 - val_loss: 1.2378 - val_acc: 0.6786\n",
      "Epoch 56/100\n",
      "11/11 [==============================] - 0s 31ms/step - loss: 0.1407 - acc: 0.9677 - val_loss: 0.6520 - val_acc: 0.7589\n",
      "Epoch 57/100\n",
      "11/11 [==============================] - 0s 32ms/step - loss: 0.0912 - acc: 0.9824 - val_loss: 0.6861 - val_acc: 0.7411\n",
      "Epoch 58/100\n",
      "11/11 [==============================] - 0s 31ms/step - loss: 0.0888 - acc: 0.9765 - val_loss: 0.6434 - val_acc: 0.7411\n",
      "Epoch 59/100\n",
      "11/11 [==============================] - 0s 32ms/step - loss: 0.0978 - acc: 0.9707 - val_loss: 0.6757 - val_acc: 0.7411\n",
      "Epoch 60/100\n",
      "11/11 [==============================] - 0s 31ms/step - loss: 0.0807 - acc: 0.9765 - val_loss: 0.6431 - val_acc: 0.7500\n",
      "Epoch 61/100\n",
      "11/11 [==============================] - 0s 30ms/step - loss: 0.0963 - acc: 0.9795 - val_loss: 0.6038 - val_acc: 0.7768\n",
      "Epoch 62/100\n",
      "11/11 [==============================] - 0s 31ms/step - loss: 0.0836 - acc: 0.9707 - val_loss: 0.8661 - val_acc: 0.7232\n",
      "Epoch 63/100\n",
      "11/11 [==============================] - 0s 29ms/step - loss: 0.1023 - acc: 0.9707 - val_loss: 0.6200 - val_acc: 0.7321\n",
      "Epoch 64/100\n",
      "11/11 [==============================] - 0s 32ms/step - loss: 0.0830 - acc: 0.9795 - val_loss: 0.7194 - val_acc: 0.7143\n",
      "Epoch 65/100\n",
      "11/11 [==============================] - 0s 32ms/step - loss: 0.0508 - acc: 0.9971 - val_loss: 0.6342 - val_acc: 0.7321\n",
      "Epoch 66/100\n",
      "11/11 [==============================] - 0s 30ms/step - loss: 0.0625 - acc: 0.9883 - val_loss: 0.6965 - val_acc: 0.7589\n",
      "Epoch 67/100\n",
      "11/11 [==============================] - 0s 31ms/step - loss: 0.0709 - acc: 0.9795 - val_loss: 0.7600 - val_acc: 0.7054\n",
      "Epoch 68/100\n",
      "11/11 [==============================] - 0s 31ms/step - loss: 0.0750 - acc: 0.9795 - val_loss: 0.6986 - val_acc: 0.7143\n",
      "Epoch 69/100\n",
      "11/11 [==============================] - 0s 30ms/step - loss: 0.0600 - acc: 0.9883 - val_loss: 0.6347 - val_acc: 0.7232\n",
      "Epoch 70/100\n",
      "11/11 [==============================] - 0s 32ms/step - loss: 0.0453 - acc: 0.9941 - val_loss: 0.6354 - val_acc: 0.7411\n",
      "Epoch 71/100\n",
      "11/11 [==============================] - 0s 32ms/step - loss: 0.0631 - acc: 0.9824 - val_loss: 0.6571 - val_acc: 0.7411\n",
      "Epoch 72/100\n",
      "11/11 [==============================] - 0s 32ms/step - loss: 0.0532 - acc: 0.9912 - val_loss: 0.6753 - val_acc: 0.7232\n",
      "Epoch 73/100\n",
      "11/11 [==============================] - 0s 31ms/step - loss: 0.0880 - acc: 0.9736 - val_loss: 0.6364 - val_acc: 0.7589\n",
      "Epoch 74/100\n",
      "11/11 [==============================] - 0s 29ms/step - loss: 0.0534 - acc: 0.9883 - val_loss: 0.6700 - val_acc: 0.7411\n",
      "Epoch 75/100\n",
      "11/11 [==============================] - 0s 31ms/step - loss: 0.0340 - acc: 1.0000 - val_loss: 0.8686 - val_acc: 0.7143\n",
      "Epoch 76/100\n",
      "11/11 [==============================] - 0s 32ms/step - loss: 0.0631 - acc: 0.9824 - val_loss: 0.6598 - val_acc: 0.7679\n",
      "Epoch 77/100\n",
      "11/11 [==============================] - 0s 32ms/step - loss: 0.0559 - acc: 0.9853 - val_loss: 0.6836 - val_acc: 0.7321\n",
      "Epoch 78/100\n",
      "11/11 [==============================] - 0s 32ms/step - loss: 0.0439 - acc: 0.9941 - val_loss: 0.8332 - val_acc: 0.7143\n",
      "Epoch 79/100\n",
      "11/11 [==============================] - 0s 32ms/step - loss: 0.0580 - acc: 0.9912 - val_loss: 0.9764 - val_acc: 0.6875\n",
      "Epoch 80/100\n",
      "11/11 [==============================] - 0s 31ms/step - loss: 0.0524 - acc: 0.9795 - val_loss: 0.7716 - val_acc: 0.7143\n",
      "Epoch 81/100\n",
      "11/11 [==============================] - 0s 30ms/step - loss: 0.0523 - acc: 0.9853 - val_loss: 0.7283 - val_acc: 0.7411\n",
      "Epoch 82/100\n",
      "11/11 [==============================] - 0s 31ms/step - loss: 0.0367 - acc: 0.9941 - val_loss: 0.8169 - val_acc: 0.7143\n",
      "Epoch 83/100\n",
      "11/11 [==============================] - 0s 32ms/step - loss: 0.0737 - acc: 0.9765 - val_loss: 0.7472 - val_acc: 0.7500\n",
      "Epoch 84/100\n",
      "11/11 [==============================] - 0s 33ms/step - loss: 0.0243 - acc: 1.0000 - val_loss: 0.7631 - val_acc: 0.7232\n",
      "Epoch 85/100\n",
      "11/11 [==============================] - 0s 31ms/step - loss: 0.0269 - acc: 0.9971 - val_loss: 0.8505 - val_acc: 0.7054\n",
      "Epoch 86/100\n",
      "11/11 [==============================] - 0s 32ms/step - loss: 0.0281 - acc: 1.0000 - val_loss: 0.8422 - val_acc: 0.7321\n",
      "Epoch 87/100\n",
      "11/11 [==============================] - 0s 30ms/step - loss: 0.0622 - acc: 0.9795 - val_loss: 0.6814 - val_acc: 0.7411\n",
      "Epoch 88/100\n",
      "11/11 [==============================] - 0s 32ms/step - loss: 0.0403 - acc: 0.9912 - val_loss: 0.6605 - val_acc: 0.7500\n",
      "Epoch 89/100\n",
      "11/11 [==============================] - 0s 32ms/step - loss: 0.0193 - acc: 0.9971 - val_loss: 0.7718 - val_acc: 0.7500\n",
      "Epoch 90/100\n",
      "11/11 [==============================] - 0s 31ms/step - loss: 0.0505 - acc: 0.9795 - val_loss: 0.7634 - val_acc: 0.7411\n",
      "Epoch 91/100\n",
      "11/11 [==============================] - 0s 31ms/step - loss: 0.0244 - acc: 0.9941 - val_loss: 0.7337 - val_acc: 0.7411\n",
      "Epoch 92/100\n",
      "11/11 [==============================] - 0s 31ms/step - loss: 0.0338 - acc: 0.9912 - val_loss: 0.7582 - val_acc: 0.7232\n",
      "Epoch 93/100\n",
      "11/11 [==============================] - 0s 29ms/step - loss: 0.0244 - acc: 0.9941 - val_loss: 0.7560 - val_acc: 0.7411\n",
      "Epoch 94/100\n",
      "11/11 [==============================] - 0s 32ms/step - loss: 0.0337 - acc: 0.9883 - val_loss: 0.6835 - val_acc: 0.7500\n",
      "Epoch 95/100\n",
      "11/11 [==============================] - 0s 32ms/step - loss: 0.0518 - acc: 0.9824 - val_loss: 0.6872 - val_acc: 0.7411\n",
      "Epoch 96/100\n",
      "11/11 [==============================] - 0s 34ms/step - loss: 0.0513 - acc: 0.9795 - val_loss: 0.6649 - val_acc: 0.7589\n",
      "Epoch 97/100\n",
      "11/11 [==============================] - 0s 32ms/step - loss: 0.0160 - acc: 0.9971 - val_loss: 0.7289 - val_acc: 0.7589\n",
      "Epoch 98/100\n",
      "11/11 [==============================] - 0s 31ms/step - loss: 0.0218 - acc: 0.9941 - val_loss: 0.7275 - val_acc: 0.7411\n",
      "Epoch 99/100\n",
      "11/11 [==============================] - 0s 31ms/step - loss: 0.0201 - acc: 0.9971 - val_loss: 0.7723 - val_acc: 0.7321\n",
      "Epoch 100/100\n",
      "11/11 [==============================] - 0s 32ms/step - loss: 0.0137 - acc: 1.0000 - val_loss: 0.8369 - val_acc: 0.7232\n"
     ]
    }
   ],
   "source": [
    "# history = model.fit(np.array(train_data), np.array(train_labels), epochs=7,batch_size=batch_size, validation_data=(np.array(validation_data), np.array(validation_labels)))\n",
    "history = model.fit(train_data, train_labels, epochs=100,batch_size=batch_size, validation_data=(validation_data, validation_labels))\n",
    "model.save_weights(top_model_weights_path)"
   ]
  },
  {
   "cell_type": "code",
   "execution_count": 12,
   "id": "604a3956-f405-43cc-9466-6ba6d36ed52b",
   "metadata": {},
   "outputs": [
    {
     "name": "stdout",
     "output_type": "stream",
     "text": [
      "4/4 [==============================] - 0s 9ms/step - loss: 0.8369 - acc: 0.7232\n",
      "[INFO] accuracy: 72.32%\n",
      "[INFO] Loss: 0.8369274139404297\n",
      "Time:  0:00:38.846385\n"
     ]
    }
   ],
   "source": [
    "(eval_loss, eval_accuracy) = model.evaluate(validation_data, validation_labels, batch_size=batch_size,verbose=1)\n",
    "print(\"[INFO] accuracy: {:.2f}%\".format(eval_accuracy * 100)) \n",
    "print(\"[INFO] Loss: {}\".format(eval_loss)) \n",
    "end= datetime.datetime.now()\n",
    "elapsed= end-start \n",
    "print ('Time: ', elapsed)"
   ]
  },
  {
   "cell_type": "code",
   "execution_count": 13,
   "id": "99a9e047-4668-4b6c-a5a0-4c177ac180bf",
   "metadata": {},
   "outputs": [
    {
     "data": {
      "image/png": "[encoded data removed]",
      "text/plain": [
       "<Figure size 640x480 with 1 Axes>"
      ]
     },
     "metadata": {},
     "output_type": "display_data"
    },
    {
     "data": {
      "image/png": "[encoded data removed]",
      "text/plain": [
       "<Figure size 640x480 with 1 Axes>"
      ]
     },
     "metadata": {},
     "output_type": "display_data"
    }
   ],
   "source": [
    "#Graphing our training and validation\n",
    "acc = history.history['acc']\n",
    "val_acc = history.history['val_acc']\n",
    "loss = history.history['loss']\n",
    "val_loss = history.history['val_loss']\n",
    "epochs = range(len(acc))\n",
    "plt.plot(epochs, acc, 'r', label='Training acc')\n",
    "plt.plot(epochs, val_acc, 'b', label='Validation acc')\n",
    "plt.title('Training and validation accuracy')\n",
    "plt.ylabel('accuracy') \n",
    "plt.xlabel('epoch')\n",
    "plt.legend()\n",
    "plt.figure()\n",
    "plt.plot(epochs, loss, 'r', label='Training loss')\n",
    "plt.plot(epochs, val_loss, 'b', label='Validation loss')\n",
    "plt.title('Training and validation loss')\n",
    "plt.ylabel('loss') \n",
    "plt.xlabel('epoch')\n",
    "plt.legend()\n",
    "plt.show()"
   ]
  },
  {
   "cell_type": "code",
   "execution_count": 14,
   "id": "cc166e0f-7f61-4bb5-938f-600b26500963",
   "metadata": {},
   "outputs": [
    {
     "name": "stdout",
     "output_type": "stream",
     "text": [
      "4/4 [==============================] - 0s 9ms/step - loss: 0.9724 - acc: 0.8000\n"
     ]
    },
    {
     "data": {
      "text/plain": [
       "[0.9723860025405884, 0.800000011920929]"
      ]
     },
     "execution_count": 14,
     "metadata": {},
     "output_type": "execute_result"
    }
   ],
   "source": [
    "model.evaluate(test_data,test_labels)"
   ]
  },
  {
   "cell_type": "code",
   "execution_count": 15,
   "id": "489bd7dd-39b6-4ce2-8e07-2e65f8abaf5f",
   "metadata": {},
   "outputs": [
    {
     "name": "stdout",
     "output_type": "stream",
     "text": [
      "4/4 [==============================] - 0s 6ms/step\n"
     ]
    },
    {
     "data": {
      "text/plain": [
       "array([[1., 0., 0., 0.],\n",
       "       [1., 0., 0., 0.],\n",
       "       [1., 0., 0., 0.],\n",
       "       [1., 0., 0., 0.],\n",
       "       [1., 0., 0., 0.],\n",
       "       [1., 0., 0., 0.],\n",
       "       [1., 0., 0., 0.],\n",
       "       [1., 0., 0., 0.],\n",
       "       [1., 0., 0., 0.],\n",
       "       [1., 0., 0., 0.],\n",
       "       [1., 0., 0., 0.],\n",
       "       [1., 0., 0., 0.],\n",
       "       [1., 0., 0., 0.],\n",
       "       [1., 0., 0., 0.],\n",
       "       [1., 0., 0., 0.],\n",
       "       [1., 0., 0., 0.],\n",
       "       [1., 0., 0., 0.],\n",
       "       [1., 0., 0., 0.],\n",
       "       [1., 0., 0., 0.],\n",
       "       [1., 0., 0., 0.],\n",
       "       [1., 0., 0., 0.],\n",
       "       [1., 0., 0., 0.],\n",
       "       [1., 0., 0., 0.],\n",
       "       [1., 0., 0., 0.],\n",
       "       [1., 0., 0., 0.],\n",
       "       [1., 0., 0., 0.],\n",
       "       [1., 0., 0., 0.],\n",
       "       [1., 0., 0., 0.],\n",
       "       [0., 1., 0., 0.],\n",
       "       [0., 1., 0., 0.],\n",
       "       [0., 1., 0., 0.],\n",
       "       [0., 1., 0., 0.],\n",
       "       [0., 1., 0., 0.],\n",
       "       [0., 1., 0., 0.],\n",
       "       [0., 1., 0., 0.],\n",
       "       [0., 1., 0., 0.],\n",
       "       [0., 1., 0., 0.],\n",
       "       [0., 1., 0., 0.],\n",
       "       [0., 1., 0., 0.],\n",
       "       [0., 1., 0., 0.],\n",
       "       [0., 1., 0., 0.],\n",
       "       [0., 1., 0., 0.],\n",
       "       [0., 1., 0., 0.],\n",
       "       [0., 1., 0., 0.],\n",
       "       [0., 1., 0., 0.],\n",
       "       [0., 1., 0., 0.],\n",
       "       [0., 1., 0., 0.],\n",
       "       [0., 1., 0., 0.],\n",
       "       [0., 1., 0., 0.],\n",
       "       [0., 1., 0., 0.],\n",
       "       [0., 1., 0., 0.],\n",
       "       [0., 1., 0., 0.],\n",
       "       [0., 1., 0., 0.],\n",
       "       [0., 1., 0., 0.],\n",
       "       [0., 1., 0., 0.],\n",
       "       [0., 1., 0., 0.],\n",
       "       [0., 1., 0., 0.],\n",
       "       [0., 1., 0., 0.],\n",
       "       [0., 1., 0., 0.],\n",
       "       [0., 1., 0., 0.],\n",
       "       [0., 0., 1., 0.],\n",
       "       [0., 0., 1., 0.],\n",
       "       [0., 0., 1., 0.],\n",
       "       [0., 0., 1., 0.],\n",
       "       [0., 0., 1., 0.],\n",
       "       [0., 0., 1., 0.],\n",
       "       [0., 0., 1., 0.],\n",
       "       [0., 0., 1., 0.],\n",
       "       [0., 0., 1., 0.],\n",
       "       [0., 0., 1., 0.],\n",
       "       [0., 0., 1., 0.],\n",
       "       [0., 0., 1., 0.],\n",
       "       [0., 0., 1., 0.],\n",
       "       [0., 0., 1., 0.],\n",
       "       [0., 0., 1., 0.],\n",
       "       [0., 0., 1., 0.],\n",
       "       [0., 0., 1., 0.],\n",
       "       [0., 0., 1., 0.],\n",
       "       [0., 0., 1., 0.],\n",
       "       [0., 0., 1., 0.],\n",
       "       [0., 0., 1., 0.],\n",
       "       [0., 0., 1., 0.],\n",
       "       [0., 0., 1., 0.],\n",
       "       [0., 0., 1., 0.],\n",
       "       [0., 0., 1., 0.],\n",
       "       [0., 0., 1., 0.],\n",
       "       [0., 0., 1., 0.],\n",
       "       [0., 0., 1., 0.],\n",
       "       [0., 0., 1., 0.],\n",
       "       [0., 0., 1., 0.],\n",
       "       [0., 0., 0., 1.],\n",
       "       [0., 0., 0., 1.],\n",
       "       [0., 0., 0., 1.],\n",
       "       [0., 0., 0., 1.],\n",
       "       [0., 0., 0., 1.],\n",
       "       [0., 0., 0., 1.],\n",
       "       [0., 0., 0., 1.],\n",
       "       [0., 0., 0., 1.],\n",
       "       [0., 0., 0., 1.],\n",
       "       [0., 0., 0., 1.],\n",
       "       [0., 0., 0., 1.],\n",
       "       [0., 0., 0., 1.],\n",
       "       [0., 0., 0., 1.],\n",
       "       [0., 0., 0., 1.],\n",
       "       [0., 0., 0., 1.],\n",
       "       [0., 0., 0., 1.],\n",
       "       [0., 0., 0., 1.],\n",
       "       [0., 0., 0., 1.],\n",
       "       [0., 0., 0., 1.],\n",
       "       [0., 0., 0., 1.],\n",
       "       [0., 0., 0., 1.],\n",
       "       [0., 0., 0., 1.],\n",
       "       [0., 0., 0., 1.],\n",
       "       [0., 0., 0., 1.],\n",
       "       [0., 0., 0., 1.],\n",
       "       [0., 0., 0., 1.],\n",
       "       [0., 0., 0., 1.],\n",
       "       [0., 0., 0., 1.],\n",
       "       [0., 0., 0., 1.],\n",
       "       [0., 0., 0., 1.]], dtype=float32)"
      ]
     },
     "execution_count": 15,
     "metadata": {},
     "output_type": "execute_result"
    }
   ],
   "source": [
    "preds= np.round(model.predict(test_data), 0)\n",
    "test_labels"
   ]
  },
  {
   "cell_type": "code",
   "execution_count": 16,
   "id": "f2017d0a-0975-487b-a500-84615a08766f",
   "metadata": {},
   "outputs": [
    {
     "name": "stdout",
     "output_type": "stream",
     "text": [
      "              precision    recall  f1-score   support\n",
      "\n",
      "      stage1       0.74      0.82      0.78        28\n",
      "      stage2       0.80      0.50      0.62        32\n",
      "      stage3       0.76      0.87      0.81        30\n",
      "      stage4       0.91      1.00      0.95        30\n",
      "\n",
      "   micro avg       0.81      0.79      0.80       120\n",
      "   macro avg       0.80      0.80      0.79       120\n",
      "weighted avg       0.80      0.79      0.79       120\n",
      " samples avg       0.79      0.79      0.79       120\n",
      "\n"
     ]
    },
    {
     "name": "stderr",
     "output_type": "stream",
     "text": [
      "C:\\Users\\adith\\anaconda3\\envs\\aiml\\lib\\site-packages\\sklearn\\metrics\\_classification.py:1344: UndefinedMetricWarning: Precision and F-score are ill-defined and being set to 0.0 in samples with no predicted labels. Use `zero_division` parameter to control this behavior.\n",
      "  _warn_prf(average, modifier, msg_start, len(result))\n"
     ]
    }
   ],
   "source": [
    "labels = ['stage1','stage2','stage3','stage4']\n",
    "classification_matrics=metrics.classification_report(test_labels,preds,target_names=labels)\n",
    "print(classification_matrics)"
   ]
  },
  {
   "cell_type": "code",
   "execution_count": 17,
   "id": "86d670d3-e2ef-4d89-a1d9-c1802abddaa9",
   "metadata": {},
   "outputs": [
    {
     "name": "stdout",
     "output_type": "stream",
     "text": [
      "Accuracy: 0.7916666666666666\n"
     ]
    }
   ],
   "source": [
    "print(\"Accuracy:\",accuracy_score(preds,test_labels))"
   ]
  },
  {
   "cell_type": "code",
   "execution_count": 18,
   "id": "e4be2db0-d26e-46ef-82ba-1bb08bd89cf8",
   "metadata": {},
   "outputs": [
    {
     "data": {
      "image/png": "[encoded data removed]",
      "text/plain": [
       "<Figure size 640x480 with 2 Axes>"
      ]
     },
     "metadata": {},
     "output_type": "display_data"
    }
   ],
   "source": [
    "# test_data_classes=list(pd.DataFrame(test_labels).idxmax(axis=1))\n",
    "from sklearn.metrics import classification_report, confusion_matrix,ConfusionMatrixDisplay\n",
    "categorical_test_labels = pd.DataFrame(test_labels).idxmax(axis=1)\n",
    "categorical_preds = pd.DataFrame(preds).idxmax(axis=1)\n",
    "cm = confusion_matrix(categorical_test_labels.to_numpy(), categorical_preds.to_numpy())\n",
    "\n",
    "disp = ConfusionMatrixDisplay(confusion_matrix=cm, display_labels=labels)\n",
    "\n",
    "disp.plot(cmap=plt.cm.Blues)\n",
    "plt.show()"
   ]
  },
  {
   "cell_type": "code",
   "execution_count": 19,
   "id": "b5ff9f24-2965-476f-ae04-81011677a8bb",
   "metadata": {},
   "outputs": [],
   "source": [
    "model = model.save('model/model.h5')"
   ]
  },
  {
   "cell_type": "code",
   "execution_count": 20,
   "id": "415c8c17-00bd-4f67-bf70-d72fb863989b",
   "metadata": {},
   "outputs": [],
   "source": [
    "model = keras.models.load_model('model/model.h5')"
   ]
  },
  {
   "cell_type": "code",
   "execution_count": null,
   "id": "56164b49-8b59-46b1-ba5b-4d4bc593d881",
   "metadata": {},
   "outputs": [],
   "source": []
  }
 ],
 "metadata": {
  "kernelspec": {
   "display_name": "Python 3 (ipykernel)",
   "language": "python",
   "name": "python3"
  },
  "language_info": {
   "codemirror_mode": {
    "name": "ipython",
    "version": 3
   },
   "file_extension": ".py",
   "mimetype": "text/x-python",
   "name": "python",
   "nbconvert_exporter": "python",
   "pygments_lexer": "ipython3",
   "version": "3.9.16"
  }
 },
 "nbformat": 4,
 "nbformat_minor": 5
}
