{
 "cells": [
  {
   "cell_type": "code",
   "execution_count": 1,
   "id": "2a215681-e597-4e41-a7e9-49e30a67204c",
   "metadata": {},
   "outputs": [],
   "source": [
    "import cv2 as cv\n",
    "from tensorflow.keras.preprocessing.image import ImageDataGenerator"
   ]
  },
  {
   "cell_type": "code",
   "execution_count": 2,
   "id": "dbecfd43-b876-49b6-89ab-19aefd7ac878",
   "metadata": {},
   "outputs": [],
   "source": [
    "datagen = ImageDataGenerator(\n",
    "        rotation_range=40,\n",
    "        height_shift_range=0.2,\n",
    "        width_shift_range=0.2,\n",
    "        shear_range=0.2,\n",
    "        zoom_range=0.2,\n",
    "        horizontal_flip=True,\n",
    "        fill_mode='nearest')"
   ]
  },
  {
   "cell_type": "code",
   "execution_count": 10,
   "id": "e28d5281-8b14-4687-acd5-b2c3904d1fe7",
   "metadata": {},
   "outputs": [
    {
     "name": "stdout",
     "output_type": "stream",
     "text": [
      "Found 46 images belonging to 1 classes.\n"
     ]
    }
   ],
   "source": [
    "i = 0\n",
    "for batch in datagen.flow_from_directory(r'C:\\Users\\adith\\Documents\\Facial_Acne_Classification\\data', batch_size=6,target_size=(256,256),\n",
    "                          save_to_dir=r'C:\\Users\\adith\\Documents\\Facial_Acne_Classification\\aug', save_format='jpg'):\n",
    "    i += 1\n",
    "    if i > 5:\n",
    "        break"
   ]
  },
  {
   "cell_type": "code",
   "execution_count": null,
   "id": "0a969450-1d14-4624-94f5-fc85bc1e86db",
   "metadata": {},
   "outputs": [],
   "source": []
  }
 ],
 "metadata": {
  "kernelspec": {
   "display_name": "Python 3 (ipykernel)",
   "language": "python",
   "name": "python3"
  },
  "language_info": {
   "codemirror_mode": {
    "name": "ipython",
    "version": 3
   },
   "file_extension": ".py",
   "mimetype": "text/x-python",
   "name": "python",
   "nbconvert_exporter": "python",
   "pygments_lexer": "ipython3",
   "version": "3.9.16"
  }
 },
 "nbformat": 4,
 "nbformat_minor": 5
}
